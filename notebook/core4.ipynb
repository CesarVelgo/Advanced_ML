{
 "cells": [
  {
   "cell_type": "markdown",
   "metadata": {},
   "source": [
    "### 1. Carga de datos:\n",
    "  * Descarga el dataset «House Prices» de Kaggle. Realiza una exploración inicial de las variables numéricas y categóricas, prestando especial atención a aquellas que están relacionadas con el tamaño de la casa, el número de habitaciones y la calidad general.\n",
    "  * Revisa la distribución de la variable objetivo (precio de la casa) y observa si tiene algún sesgo."
   ]
  },
  {
   "cell_type": "code",
   "execution_count": 1,
   "metadata": {},
   "outputs": [],
   "source": [
    "# importamos las librerias necesarias\n",
    "import pandas as pd\n",
    "import matplotlib.pyplot as plt\n",
    "import seaborn as sns\n",
    "import numpy as np\n",
    "from sklearn.model_selection import train_test_split\n",
    "from sklearn.linear_model import LinearRegression\n",
    "from sklearn.metrics import mean_squared_error, r2_score\n",
    "from sklearn.preprocessing import StandardScaler"
   ]
  },
  {
   "cell_type": "code",
   "execution_count": 2,
   "metadata": {},
   "outputs": [
    {
     "data": {
      "text/plain": [
       "(128, 8)"
      ]
     },
     "execution_count": 2,
     "metadata": {},
     "output_type": "execute_result"
    }
   ],
   "source": [
    "# cargamos el dataset\n",
    "ruta='../data/house-prices.csv'\n",
    "df = pd.read_csv(filepath_or_buffer=ruta, sep=',')\n",
    "df.shape"
   ]
  },
  {
   "cell_type": "code",
   "execution_count": 3,
   "metadata": {},
   "outputs": [
    {
     "name": "stdout",
     "output_type": "stream",
     "text": [
      "<class 'pandas.core.frame.DataFrame'>\n",
      "RangeIndex: 128 entries, 0 to 127\n",
      "Data columns (total 8 columns):\n",
      " #   Column        Non-Null Count  Dtype \n",
      "---  ------        --------------  ----- \n",
      " 0   Home          128 non-null    int64 \n",
      " 1   Price         128 non-null    int64 \n",
      " 2   SqFt          128 non-null    int64 \n",
      " 3   Bedrooms      128 non-null    int64 \n",
      " 4   Bathrooms     128 non-null    int64 \n",
      " 5   Offers        128 non-null    int64 \n",
      " 6   Brick         128 non-null    object\n",
      " 7   Neighborhood  128 non-null    object\n",
      "dtypes: int64(6), object(2)\n",
      "memory usage: 8.1+ KB\n"
     ]
    }
   ],
   "source": [
    "df.info() # vemos informacion sobre el dataset"
   ]
  },
  {
   "cell_type": "code",
   "execution_count": 4,
   "metadata": {},
   "outputs": [
    {
     "data": {
      "text/html": [
       "<div>\n",
       "<style scoped>\n",
       "    .dataframe tbody tr th:only-of-type {\n",
       "        vertical-align: middle;\n",
       "    }\n",
       "\n",
       "    .dataframe tbody tr th {\n",
       "        vertical-align: top;\n",
       "    }\n",
       "\n",
       "    .dataframe thead th {\n",
       "        text-align: right;\n",
       "    }\n",
       "</style>\n",
       "<table border=\"1\" class=\"dataframe\">\n",
       "  <thead>\n",
       "    <tr style=\"text-align: right;\">\n",
       "      <th></th>\n",
       "      <th>Home</th>\n",
       "      <th>Price</th>\n",
       "      <th>SqFt</th>\n",
       "      <th>Bedrooms</th>\n",
       "      <th>Bathrooms</th>\n",
       "      <th>Offers</th>\n",
       "    </tr>\n",
       "  </thead>\n",
       "  <tbody>\n",
       "    <tr>\n",
       "      <th>count</th>\n",
       "      <td>128.000000</td>\n",
       "      <td>128.000000</td>\n",
       "      <td>128.000000</td>\n",
       "      <td>128.000000</td>\n",
       "      <td>128.000000</td>\n",
       "      <td>128.000000</td>\n",
       "    </tr>\n",
       "    <tr>\n",
       "      <th>mean</th>\n",
       "      <td>64.500000</td>\n",
       "      <td>130427.343750</td>\n",
       "      <td>2000.937500</td>\n",
       "      <td>3.023438</td>\n",
       "      <td>2.445312</td>\n",
       "      <td>2.578125</td>\n",
       "    </tr>\n",
       "    <tr>\n",
       "      <th>std</th>\n",
       "      <td>37.094474</td>\n",
       "      <td>26868.770371</td>\n",
       "      <td>211.572431</td>\n",
       "      <td>0.725951</td>\n",
       "      <td>0.514492</td>\n",
       "      <td>1.069324</td>\n",
       "    </tr>\n",
       "    <tr>\n",
       "      <th>min</th>\n",
       "      <td>1.000000</td>\n",
       "      <td>69100.000000</td>\n",
       "      <td>1450.000000</td>\n",
       "      <td>2.000000</td>\n",
       "      <td>2.000000</td>\n",
       "      <td>1.000000</td>\n",
       "    </tr>\n",
       "    <tr>\n",
       "      <th>25%</th>\n",
       "      <td>32.750000</td>\n",
       "      <td>111325.000000</td>\n",
       "      <td>1880.000000</td>\n",
       "      <td>3.000000</td>\n",
       "      <td>2.000000</td>\n",
       "      <td>2.000000</td>\n",
       "    </tr>\n",
       "    <tr>\n",
       "      <th>50%</th>\n",
       "      <td>64.500000</td>\n",
       "      <td>125950.000000</td>\n",
       "      <td>2000.000000</td>\n",
       "      <td>3.000000</td>\n",
       "      <td>2.000000</td>\n",
       "      <td>3.000000</td>\n",
       "    </tr>\n",
       "    <tr>\n",
       "      <th>75%</th>\n",
       "      <td>96.250000</td>\n",
       "      <td>148250.000000</td>\n",
       "      <td>2140.000000</td>\n",
       "      <td>3.000000</td>\n",
       "      <td>3.000000</td>\n",
       "      <td>3.000000</td>\n",
       "    </tr>\n",
       "    <tr>\n",
       "      <th>max</th>\n",
       "      <td>128.000000</td>\n",
       "      <td>211200.000000</td>\n",
       "      <td>2590.000000</td>\n",
       "      <td>5.000000</td>\n",
       "      <td>4.000000</td>\n",
       "      <td>6.000000</td>\n",
       "    </tr>\n",
       "  </tbody>\n",
       "</table>\n",
       "</div>"
      ],
      "text/plain": [
       "             Home          Price         SqFt    Bedrooms   Bathrooms  \\\n",
       "count  128.000000     128.000000   128.000000  128.000000  128.000000   \n",
       "mean    64.500000  130427.343750  2000.937500    3.023438    2.445312   \n",
       "std     37.094474   26868.770371   211.572431    0.725951    0.514492   \n",
       "min      1.000000   69100.000000  1450.000000    2.000000    2.000000   \n",
       "25%     32.750000  111325.000000  1880.000000    3.000000    2.000000   \n",
       "50%     64.500000  125950.000000  2000.000000    3.000000    2.000000   \n",
       "75%     96.250000  148250.000000  2140.000000    3.000000    3.000000   \n",
       "max    128.000000  211200.000000  2590.000000    5.000000    4.000000   \n",
       "\n",
       "           Offers  \n",
       "count  128.000000  \n",
       "mean     2.578125  \n",
       "std      1.069324  \n",
       "min      1.000000  \n",
       "25%      2.000000  \n",
       "50%      3.000000  \n",
       "75%      3.000000  \n",
       "max      6.000000  "
      ]
     },
     "execution_count": 4,
     "metadata": {},
     "output_type": "execute_result"
    }
   ],
   "source": [
    "df.describe() # mostramos la estadistica descriptiva del dataframe"
   ]
  },
  {
   "cell_type": "code",
   "execution_count": 5,
   "metadata": {},
   "outputs": [
    {
     "data": {
      "text/plain": [
       "Home            0\n",
       "Price           0\n",
       "SqFt            0\n",
       "Bedrooms        0\n",
       "Bathrooms       0\n",
       "Offers          0\n",
       "Brick           0\n",
       "Neighborhood    0\n",
       "dtype: int64"
      ]
     },
     "execution_count": 5,
     "metadata": {},
     "output_type": "execute_result"
    }
   ],
   "source": [
    "df.isnull().sum() # verificamos si existen valores nulos"
   ]
  },
  {
   "cell_type": "markdown",
   "metadata": {},
   "source": [
    "### 2. Exploración y preprocesamiento de datos:\n",
    "  * Antes de aplicar las transformaciones, realiza un análisis de las variables con distribuciones asimétricas o que contengan outliers. Estos son buenos candidatos para transformaciones logarítmicas o polinómicas.\n",
    "  * También identifica variables que estén en escalas diferentes para aplicar técnicas de normalización o estandarización."
   ]
  },
  {
   "cell_type": "code",
   "execution_count": 7,
   "metadata": {},
   "outputs": [
    {
     "data": {
      "image/png": "[encoded data removed]",
      "text/plain": [
       "<Figure size 1500x1000 with 6 Axes>"
      ]
     },
     "metadata": {},
     "output_type": "display_data"
    }
   ],
   "source": [
    "numeric_cols = ['Price', 'SqFt', 'Bedrooms', 'Bathrooms', 'Offers'] # definimos las columnas numéricas que deseamos visualizar\n",
    "df[numeric_cols].hist(bins=30, figsize=(15, 10)) # generamos histogramas\n",
    "plt.tight_layout()# ajustamos la disposición de los subgráficos para evitar superposiciones de los elementos gráficos\n",
    "plt.show() # mostramos los gráficos generados\n"
   ]
  },
  {
   "cell_type": "markdown",
   "metadata": {},
   "source": [
    "### 3. Transformaciones de variables:\n",
    "  * Aplica transformaciones logarítmicas a variables sesgadas como el «SalePrice» y otras variables numéricas que tengan una distribución sesgada.\n",
    "  * Crea variables polinómicas a partir de las variables numéricas, como el tamaño total de la casa. Por ejemplo, agrega el cuadrado o el cubo de estas variables como nuevas características para capturar posibles relaciones no lineales.\n",
    "  * Estandariza las variables numéricas para que todas tengan la misma escala, lo cual es útil cuando se entrenan modelos de regresión o algoritmos basados en distancia como KNN."
   ]
  },
  {
   "cell_type": "code",
   "execution_count": 8,
   "metadata": {},
   "outputs": [
    {
     "data": {
      "text/plain": [
       "Home            0\n",
       "Price           0\n",
       "SqFt            0\n",
       "Bedrooms        0\n",
       "Bathrooms       0\n",
       "Offers          0\n",
       "Brick           0\n",
       "Neighborhood    0\n",
       "dtype: int64"
      ]
     },
     "execution_count": 8,
     "metadata": {},
     "output_type": "execute_result"
    }
   ],
   "source": [
    "df.isnull().sum() # verificamos la existencia de valores nulos"
   ]
  },
  {
   "cell_type": "code",
   "execution_count": 9,
   "metadata": {},
   "outputs": [],
   "source": [
    "df['Log_Price'] = np.log(df['Price']) # aplicamos una transformación logarítmica a la columna Price"
   ]
  },
  {
   "cell_type": "code",
   "execution_count": 11,
   "metadata": {},
   "outputs": [
    {
     "data": {
      "text/plain": [
       "Home            0\n",
       "Price           0\n",
       "SqFt            0\n",
       "Bedrooms        0\n",
       "Bathrooms       0\n",
       "Offers          0\n",
       "Brick           0\n",
       "Neighborhood    0\n",
       "Log_Price       0\n",
       "dtype: int64"
      ]
     },
     "execution_count": 11,
     "metadata": {},
     "output_type": "execute_result"
    }
   ],
   "source": [
    "df.isnull().sum() # verificamos que no haya valores nulos"
   ]
  },
  {
   "cell_type": "code",
   "execution_count": 12,
   "metadata": {},
   "outputs": [],
   "source": [
    "# calculamos el cuadrado de la columna 'SqFt' y lo guardamos en una nueva columna 'SqFt_Squared'\n",
    "df['SqFt_Squared'] = df['SqFt'] ** 2\n",
    "# calculamos el cubo de la columna 'SqFt' y lo guardamos en una nueva columna 'SqFt_Cubed'\n",
    "df['SqFt_Cubed'] = df['SqFt'] ** 3"
   ]
  },
  {
   "cell_type": "code",
   "execution_count": 13,
   "metadata": {},
   "outputs": [],
   "source": [
    "# creamos un objeto 'scaler' de la clase StandardScaler para normalizar las columnas numéricas\n",
    "scaler = StandardScaler()\n",
    "# aplicamos la normalización (escalado) a las columnas numéricas del DataFrame\n",
    "df[numeric_cols] = scaler.fit_transform(df[numeric_cols])"
   ]
  },
  {
   "cell_type": "markdown",
   "metadata": {},
   "source": [
    "### 4. Evaluación de las transformaciones:\n",
    "  * Aplica un modelo de regresión antes y después de las transformaciones para evaluar su impacto en el rendimiento del modelo.\n",
    "  * Compara métricas como el RMSE (Root Mean Squared Error) y el R-squared para ver si las transformaciones logarítmicas y polinómicas han mejorado la predicción del precio de las casas."
   ]
  },
  {
   "cell_type": "code",
   "execution_count": 14,
   "metadata": {},
   "outputs": [],
   "source": [
    "# dividimos los datos en conjunto de entrenamiento y prueba\n",
    "X = df[['SqFt', 'Bedrooms', 'Bathrooms', 'Offers']]\n",
    "y = df['Log_Price']  # Usando Log_Price para el modelo transformado\n",
    "X_train, X_test, y_train, y_test = train_test_split(X, y, test_size=0.2, random_state=42)"
   ]
  },
  {
   "cell_type": "code",
   "execution_count": 18,
   "metadata": {},
   "outputs": [
    {
     "name": "stderr",
     "output_type": "stream",
     "text": [
      "/home/cvelazquez/anaconda3/envs/ds_mitic/lib/python3.10/site-packages/sklearn/metrics/_regression.py:492: FutureWarning: 'squared' is deprecated in version 1.4 and will be removed in 1.6. To calculate the root mean squared error, use the function'root_mean_squared_error'.\n",
      "  warnings.warn(\n"
     ]
    }
   ],
   "source": [
    "model_before = LinearRegression() # creamos una instancia del modelo de regresión lineal\n",
    "model_before.fit(X_train, y_train) # entrenamos el modelo con los datos de entrenamiento (X_train y y_train)\n",
    "y_pred_before = model_before.predict(X_test) # realizamos predicciones sobre el conjunto de prueba (X_test)\n",
    "rmse_before = mean_squared_error(y_test, y_pred_before, squared=False) # calculamos el RMSE (Raíz del error cuadrático medio) para evaluar el rendimiento del modelo\n",
    "r2_before = r2_score(y_test, y_pred_before) # calculamos el R-squared (coeficiente de determinación) para medir la calidad del modelo\n"
   ]
  },
  {
   "cell_type": "code",
   "execution_count": 19,
   "metadata": {},
   "outputs": [
    {
     "name": "stderr",
     "output_type": "stream",
     "text": [
      "/home/cvelazquez/anaconda3/envs/ds_mitic/lib/python3.10/site-packages/sklearn/metrics/_regression.py:492: FutureWarning: 'squared' is deprecated in version 1.4 and will be removed in 1.6. To calculate the root mean squared error, use the function'root_mean_squared_error'.\n",
      "  warnings.warn(\n"
     ]
    }
   ],
   "source": [
    "# seleccionamos un subconjunto de características transformadas para el modelo\n",
    "X_transformed = df[['SqFt_Squared', 'Bedrooms', 'Bathrooms', 'Offers']]\n",
    "# dividimos los datos transformados en entrenamiento y prueba\n",
    "X_train_transformed, X_test_transformed, y_train_transformed, y_test_transformed = train_test_split(X_transformed, y, test_size=0.2, random_state=42)\n",
    "\n",
    "model_after = LinearRegression() # creamos una instancia de un modelo de regresión lineal\n",
    "model_after.fit(X_train_transformed, y_train_transformed) # entrenamos el modelo con los datos de entrenamiento transformados\n",
    "y_pred_after = model_after.predict(X_test_transformed) # realizamos predicciones sobre el conjunto de prueba transformado\n",
    "rmse_after = mean_squared_error(y_test_transformed, y_pred_after, squared=False) # calculamos el RMSE (Raíz del error cuadrático medio) para evaluar el rendimiento del modelo transformado\n",
    "r2_after = r2_score(y_test_transformed, y_pred_after) # calculamos el R-squared (coeficiente de determinación) para medir la calidad del modelo transformado\n"
   ]
  },
  {
   "cell_type": "code",
   "execution_count": 20,
   "metadata": {},
   "outputs": [
    {
     "name": "stdout",
     "output_type": "stream",
     "text": [
      "RMSE antes de transformaciones: 0.1242, R-squared: 0.5756\n",
      "RMSE después de transformaciones: 0.1274, R-squared: 0.5534\n"
     ]
    }
   ],
   "source": [
    "# mostramos los resultados del rendimiento del modelo antes de realizar cualquier transformación\n",
    "print(f'RMSE antes de transformaciones: {rmse_before:.4f}, R-squared: {r2_before:.4f}')\n",
    "print(f'RMSE después de transformaciones: {rmse_after:.4f}, R-squared: {r2_after:.4f}')"
   ]
  },
  {
   "cell_type": "markdown",
   "metadata": {},
   "source": [
    "## 5. Interpretación de los resultados:"
   ]
  },
  {
   "cell_type": "markdown",
   "metadata": {},
   "source": [
    "* Las transformaciones aplicadas (logarítmicas y polinómicas) no mejoraron el rendimiento del modelo; en cambio, empeoraron tanto la precisión como la capacidad explicativa. Esto sugiere que estas transformaciones no fueron adecuadas para este conjunto específico de datos.\n",
    "* Es crucial evaluar cuidadosamente cualquier transformación aplicada a los datos, ya que no todas las técnicas son efectivas para todos los conjuntos de datos y problemas específicos."
   ]
  }
 ],
 "metadata": {
  "kernelspec": {
   "display_name": "ds_mitic",
   "language": "python",
   "name": "python3"
  },
  "language_info": {
   "codemirror_mode": {
    "name": "ipython",
    "version": 3
   },
   "file_extension": ".py",
   "mimetype": "text/x-python",
   "name": "python",
   "nbconvert_exporter": "python",
   "pygments_lexer": "ipython3",
   "version": "3.10.15"
  }
 },
 "nbformat": 4,
 "nbformat_minor": 2
}
