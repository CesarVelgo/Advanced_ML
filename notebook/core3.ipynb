{
 "cells": [
  {
   "cell_type": "markdown",
   "metadata": {},
   "source": [
    "### 1. Carga de datos:\n",
    "  * Descarga y carga el dataset «Titanic» desde Kaggle. Realiza una exploración inicial de las variables disponibles, que incluyen información sobre la edad, el género, la clase del pasajero, entre otros.\n",
    "  * Examina cuántos valores faltan en las variables importantes como la edad y el precio del boleto."
   ]
  },
  {
   "cell_type": "code",
   "execution_count": 22,
   "metadata": {},
   "outputs": [],
   "source": [
    "import pandas as pd\n",
    "import numpy as np\n",
    "import matplotlib.pyplot as plt\n",
    "import seaborn as sns\n",
    "import time\n",
    "from sklearn.preprocessing import StandardScaler\n",
    "from sklearn.decomposition import PCA\n",
    "from sklearn.ensemble import RandomForestClassifier\n",
    "from sklearn.linear_model import LinearRegression,LogisticRegression\n",
    "from sklearn.model_selection import train_test_split\n",
    "from sklearn.metrics import accuracy_score, classification_report, accuracy_score, f1_score\n",
    "from sklearn.datasets import load_digits\n",
    "from sklearn.datasets import load_iris\n",
    "from sklearn.metrics import confusion_matrix, ConfusionMatrixDisplay\n"
   ]
  },
  {
   "cell_type": "code",
   "execution_count": 2,
   "metadata": {},
   "outputs": [
    {
     "data": {
      "text/plain": [
       "(1309, 28)"
      ]
     },
     "execution_count": 2,
     "metadata": {},
     "output_type": "execute_result"
    }
   ],
   "source": [
    "ruta='../data/titanic.csv'\n",
    "df = pd.read_csv(filepath_or_buffer=ruta, sep=',')\n",
    "df.shape"
   ]
  },
  {
   "cell_type": "code",
   "execution_count": 3,
   "metadata": {},
   "outputs": [],
   "source": [
    "df = df[['Passengerid', 'Age', 'Fare', 'Sex', 'sibsp', 'Parch', '2urvived']]\n",
    "# dejamos solo las columnas significativas"
   ]
  },
  {
   "cell_type": "code",
   "execution_count": 4,
   "metadata": {},
   "outputs": [
    {
     "name": "stdout",
     "output_type": "stream",
     "text": [
      "<class 'pandas.core.frame.DataFrame'>\n",
      "RangeIndex: 1309 entries, 0 to 1308\n",
      "Data columns (total 7 columns):\n",
      " #   Column       Non-Null Count  Dtype  \n",
      "---  ------       --------------  -----  \n",
      " 0   Passengerid  1309 non-null   int64  \n",
      " 1   Age          1309 non-null   float64\n",
      " 2   Fare         1309 non-null   float64\n",
      " 3   Sex          1309 non-null   int64  \n",
      " 4   sibsp        1309 non-null   int64  \n",
      " 5   Parch        1309 non-null   int64  \n",
      " 6   2urvived     1309 non-null   int64  \n",
      "dtypes: float64(2), int64(5)\n",
      "memory usage: 71.7 KB\n"
     ]
    }
   ],
   "source": [
    "df.info()"
   ]
  },
  {
   "cell_type": "markdown",
   "metadata": {},
   "source": [
    "* Passengerid: Esta columna es un identificador único para cada pasajero.\n",
    "* Age: Edad del pasajero, en formato float64 ya que puede contener valores decimales.\n",
    "* Fare: Monto pagado por el pasajero, también es un número flotante.\n",
    "* Sex: Indica el género del pasajero (0 para mujeres y 1 para hombres), representado como un valor entero.\n",
    "* sibsp: Número de hermanos o cónyuges a bordo.\n",
    "* Parch: Número de padres o hijos a bordo.\n",
    "* 2urvived: Indica si el pasajero sobrevivió (1) o no (0), es una variable binaria."
   ]
  },
  {
   "cell_type": "code",
   "execution_count": 5,
   "metadata": {},
   "outputs": [
    {
     "data": {
      "text/plain": [
       "Passengerid    0\n",
       "Age            0\n",
       "Fare           0\n",
       "Sex            0\n",
       "sibsp          0\n",
       "Parch          0\n",
       "2urvived       0\n",
       "dtype: int64"
      ]
     },
     "execution_count": 5,
     "metadata": {},
     "output_type": "execute_result"
    }
   ],
   "source": [
    "df.isnull().sum()"
   ]
  },
  {
   "cell_type": "code",
   "execution_count": 6,
   "metadata": {},
   "outputs": [
    {
     "data": {
      "text/html": [
       "<div>\n",
       "<style scoped>\n",
       "    .dataframe tbody tr th:only-of-type {\n",
       "        vertical-align: middle;\n",
       "    }\n",
       "\n",
       "    .dataframe tbody tr th {\n",
       "        vertical-align: top;\n",
       "    }\n",
       "\n",
       "    .dataframe thead th {\n",
       "        text-align: right;\n",
       "    }\n",
       "</style>\n",
       "<table border=\"1\" class=\"dataframe\">\n",
       "  <thead>\n",
       "    <tr style=\"text-align: right;\">\n",
       "      <th></th>\n",
       "      <th>Passengerid</th>\n",
       "      <th>Age</th>\n",
       "      <th>Fare</th>\n",
       "      <th>Sex</th>\n",
       "      <th>sibsp</th>\n",
       "      <th>Parch</th>\n",
       "      <th>2urvived</th>\n",
       "    </tr>\n",
       "  </thead>\n",
       "  <tbody>\n",
       "    <tr>\n",
       "      <th>0</th>\n",
       "      <td>1</td>\n",
       "      <td>22.0</td>\n",
       "      <td>7.2500</td>\n",
       "      <td>0</td>\n",
       "      <td>1</td>\n",
       "      <td>0</td>\n",
       "      <td>0</td>\n",
       "    </tr>\n",
       "    <tr>\n",
       "      <th>1</th>\n",
       "      <td>2</td>\n",
       "      <td>38.0</td>\n",
       "      <td>71.2833</td>\n",
       "      <td>1</td>\n",
       "      <td>1</td>\n",
       "      <td>0</td>\n",
       "      <td>1</td>\n",
       "    </tr>\n",
       "    <tr>\n",
       "      <th>2</th>\n",
       "      <td>3</td>\n",
       "      <td>26.0</td>\n",
       "      <td>7.9250</td>\n",
       "      <td>1</td>\n",
       "      <td>0</td>\n",
       "      <td>0</td>\n",
       "      <td>1</td>\n",
       "    </tr>\n",
       "    <tr>\n",
       "      <th>3</th>\n",
       "      <td>4</td>\n",
       "      <td>35.0</td>\n",
       "      <td>53.1000</td>\n",
       "      <td>1</td>\n",
       "      <td>1</td>\n",
       "      <td>0</td>\n",
       "      <td>1</td>\n",
       "    </tr>\n",
       "    <tr>\n",
       "      <th>4</th>\n",
       "      <td>5</td>\n",
       "      <td>35.0</td>\n",
       "      <td>8.0500</td>\n",
       "      <td>0</td>\n",
       "      <td>0</td>\n",
       "      <td>0</td>\n",
       "      <td>0</td>\n",
       "    </tr>\n",
       "  </tbody>\n",
       "</table>\n",
       "</div>"
      ],
      "text/plain": [
       "   Passengerid   Age     Fare  Sex  sibsp  Parch  2urvived\n",
       "0            1  22.0   7.2500    0      1      0         0\n",
       "1            2  38.0  71.2833    1      1      0         1\n",
       "2            3  26.0   7.9250    1      0      0         1\n",
       "3            4  35.0  53.1000    1      1      0         1\n",
       "4            5  35.0   8.0500    0      0      0         0"
      ]
     },
     "execution_count": 6,
     "metadata": {},
     "output_type": "execute_result"
    }
   ],
   "source": [
    "df.head()"
   ]
  },
  {
   "cell_type": "code",
   "execution_count": 7,
   "metadata": {},
   "outputs": [
    {
     "data": {
      "text/html": [
       "<div>\n",
       "<style scoped>\n",
       "    .dataframe tbody tr th:only-of-type {\n",
       "        vertical-align: middle;\n",
       "    }\n",
       "\n",
       "    .dataframe tbody tr th {\n",
       "        vertical-align: top;\n",
       "    }\n",
       "\n",
       "    .dataframe thead th {\n",
       "        text-align: right;\n",
       "    }\n",
       "</style>\n",
       "<table border=\"1\" class=\"dataframe\">\n",
       "  <thead>\n",
       "    <tr style=\"text-align: right;\">\n",
       "      <th></th>\n",
       "      <th>count</th>\n",
       "      <th>mean</th>\n",
       "      <th>std</th>\n",
       "      <th>min</th>\n",
       "      <th>25%</th>\n",
       "      <th>50%</th>\n",
       "      <th>75%</th>\n",
       "      <th>max</th>\n",
       "    </tr>\n",
       "  </thead>\n",
       "  <tbody>\n",
       "    <tr>\n",
       "      <th>Passengerid</th>\n",
       "      <td>1309.0</td>\n",
       "      <td>655.000000</td>\n",
       "      <td>378.020061</td>\n",
       "      <td>1.00</td>\n",
       "      <td>328.0000</td>\n",
       "      <td>655.0000</td>\n",
       "      <td>982.000</td>\n",
       "      <td>1309.0000</td>\n",
       "    </tr>\n",
       "    <tr>\n",
       "      <th>Age</th>\n",
       "      <td>1309.0</td>\n",
       "      <td>29.503186</td>\n",
       "      <td>12.905241</td>\n",
       "      <td>0.17</td>\n",
       "      <td>22.0000</td>\n",
       "      <td>28.0000</td>\n",
       "      <td>35.000</td>\n",
       "      <td>80.0000</td>\n",
       "    </tr>\n",
       "    <tr>\n",
       "      <th>Fare</th>\n",
       "      <td>1309.0</td>\n",
       "      <td>33.281086</td>\n",
       "      <td>51.741500</td>\n",
       "      <td>0.00</td>\n",
       "      <td>7.8958</td>\n",
       "      <td>14.4542</td>\n",
       "      <td>31.275</td>\n",
       "      <td>512.3292</td>\n",
       "    </tr>\n",
       "    <tr>\n",
       "      <th>Sex</th>\n",
       "      <td>1309.0</td>\n",
       "      <td>0.355997</td>\n",
       "      <td>0.478997</td>\n",
       "      <td>0.00</td>\n",
       "      <td>0.0000</td>\n",
       "      <td>0.0000</td>\n",
       "      <td>1.000</td>\n",
       "      <td>1.0000</td>\n",
       "    </tr>\n",
       "    <tr>\n",
       "      <th>sibsp</th>\n",
       "      <td>1309.0</td>\n",
       "      <td>0.498854</td>\n",
       "      <td>1.041658</td>\n",
       "      <td>0.00</td>\n",
       "      <td>0.0000</td>\n",
       "      <td>0.0000</td>\n",
       "      <td>1.000</td>\n",
       "      <td>8.0000</td>\n",
       "    </tr>\n",
       "    <tr>\n",
       "      <th>Parch</th>\n",
       "      <td>1309.0</td>\n",
       "      <td>0.385027</td>\n",
       "      <td>0.865560</td>\n",
       "      <td>0.00</td>\n",
       "      <td>0.0000</td>\n",
       "      <td>0.0000</td>\n",
       "      <td>0.000</td>\n",
       "      <td>9.0000</td>\n",
       "    </tr>\n",
       "    <tr>\n",
       "      <th>2urvived</th>\n",
       "      <td>1309.0</td>\n",
       "      <td>0.261268</td>\n",
       "      <td>0.439494</td>\n",
       "      <td>0.00</td>\n",
       "      <td>0.0000</td>\n",
       "      <td>0.0000</td>\n",
       "      <td>1.000</td>\n",
       "      <td>1.0000</td>\n",
       "    </tr>\n",
       "  </tbody>\n",
       "</table>\n",
       "</div>"
      ],
      "text/plain": [
       "              count        mean         std   min       25%       50%  \\\n",
       "Passengerid  1309.0  655.000000  378.020061  1.00  328.0000  655.0000   \n",
       "Age          1309.0   29.503186   12.905241  0.17   22.0000   28.0000   \n",
       "Fare         1309.0   33.281086   51.741500  0.00    7.8958   14.4542   \n",
       "Sex          1309.0    0.355997    0.478997  0.00    0.0000    0.0000   \n",
       "sibsp        1309.0    0.498854    1.041658  0.00    0.0000    0.0000   \n",
       "Parch        1309.0    0.385027    0.865560  0.00    0.0000    0.0000   \n",
       "2urvived     1309.0    0.261268    0.439494  0.00    0.0000    0.0000   \n",
       "\n",
       "                 75%        max  \n",
       "Passengerid  982.000  1309.0000  \n",
       "Age           35.000    80.0000  \n",
       "Fare          31.275   512.3292  \n",
       "Sex            1.000     1.0000  \n",
       "sibsp          1.000     8.0000  \n",
       "Parch          0.000     9.0000  \n",
       "2urvived       1.000     1.0000  "
      ]
     },
     "execution_count": 7,
     "metadata": {},
     "output_type": "execute_result"
    }
   ],
   "source": [
    "df.describe().T"
   ]
  },
  {
   "cell_type": "markdown",
   "metadata": {},
   "source": [
    "### 2. Exploración y preprocesamiento de datos:\n",
    "  * Realiza una limpieza de los datos, manejando los valores nulos. Por ejemplo, puedes imputar los valores faltantes de la edad con la mediana o la media según sea conveniente.\n",
    "  * Revisa la distribución de las variables y asegúrate de que las categorías estén codificadas correctamente para el modelado."
   ]
  },
  {
   "cell_type": "code",
   "execution_count": 8,
   "metadata": {},
   "outputs": [
    {
     "data": {
      "image/png": "[encoded data removed]",
      "text/plain": [
       "<Figure size 1200x800 with 6 Axes>"
      ]
     },
     "metadata": {},
     "output_type": "display_data"
    }
   ],
   "source": [
    "df[['Age', 'Fare', 'sibsp', 'Parch', '2urvived']].hist(bins=20, figsize=(12, 8))\n",
    "plt.tight_layout()\n",
    "plt.show()"
   ]
  },
  {
   "cell_type": "markdown",
   "metadata": {},
   "source": [
    "### 3. Creación de nuevas características:\n",
    "  * Crea nuevas variables a partir de las existentes. Algunas ideas incluyen:\n",
    "  * Tamaño de la familia: Combina las variables «SibSp» (número de hermanos/esposos) y «Parch» (número de padres/hijos) para crear una variable que represente el tamaño total de la familia del pasajero.\n",
    "  * Cabina desconocida: Crea una variable binaria que indique si la cabina de un pasajero es conocida o no, lo cual podría estar relacionado con la clase o la ubicación a bordo.\n",
    "  * Categoría de tarifa: Agrupa la variable «Fare» en diferentes rangos para crear una variable categórica que represente el nivel de costo del boleto.\n",
    "  * Título del pasajero: Extrae el título de cada pasajero desde la variable «Name» y crea una nueva variable categórica que represente estos títulos (e.g., Mr., Mrs., Miss.)."
   ]
  },
  {
   "cell_type": "code",
   "execution_count": 9,
   "metadata": {},
   "outputs": [
    {
     "data": {
      "text/plain": [
       "array([0, 1])"
      ]
     },
     "execution_count": 9,
     "metadata": {},
     "output_type": "execute_result"
    }
   ],
   "source": [
    "df['Sex'].unique()"
   ]
  },
  {
   "cell_type": "code",
   "execution_count": 18,
   "metadata": {},
   "outputs": [
    {
     "data": {
      "text/plain": [
       "0       Mrs.\n",
       "1        Mr.\n",
       "2        Mr.\n",
       "3        Mr.\n",
       "4       Mrs.\n",
       "        ... \n",
       "1304    Mrs.\n",
       "1305     Mr.\n",
       "1306    Mrs.\n",
       "1307    Mrs.\n",
       "1308    Mrs.\n",
       "Name: Title, Length: 1309, dtype: object"
      ]
     },
     "execution_count": 18,
     "metadata": {},
     "output_type": "execute_result"
    }
   ],
   "source": [
    "bins = [0, 10, 50, 100, float('inf')]  # Definir los rangos\n",
    "labels = ['Baja', 'Media', 'Alta', 'Muy alta']  # Etiquetas para los rangos\n",
    "df['FareCategory'] = pd.cut(df['Fare'], bins=bins, labels=labels, right=False)\n",
    "# Extraer el título de la columna 'Name'\n",
    "df['Title'] = df['Sex'].apply(lambda x: 'Mr.' if x == 1 else 'Mrs.')\n",
    "# Verificar los títulos extraídos\n",
    "df['Title']\n"
   ]
  },
  {
   "cell_type": "markdown",
   "metadata": {},
   "source": [
    "### 4. Evaluación de nuevas características:\n",
    "  * Aplica un modelo de machine learning (como un modelo de regresión logística o un árbol de decisión) antes y después de agregar las nuevas características para evaluar su impacto en el rendimiento del modelo.\n",
    "  * Utiliza métricas como la exactitud y el F1-score para comparar el rendimiento con y sin las nuevas variables."
   ]
  },
  {
   "cell_type": "code",
   "execution_count": 19,
   "metadata": {},
   "outputs": [],
   "source": [
    "# Codificar las variables categóricas (FareCategory y Title) en variables numéricas\n",
    "df['FareCategory'] = df['FareCategory'].astype('category').cat.codes  # FareCategory en formato numérico\n",
    "df['Title'] = df['Title'].astype('category').cat.codes  # Title en formato numérico\n",
    "\n",
    "# Seleccionar las características (X) y la variable objetivo (y)\n",
    "X = df[['Age', 'Fare', 'Sex', 'sibsp', 'Parch', 'FareCategory', 'Title']]\n",
    "y = df['2urvived']\n",
    "\n",
    "# Dividir los datos en conjunto de entrenamiento y conjunto de prueba (80% / 20%)\n",
    "X_train, X_test, y_train, y_test = train_test_split(X, y, test_size=0.2, random_state=42)"
   ]
  },
  {
   "cell_type": "code",
   "execution_count": 20,
   "metadata": {},
   "outputs": [
    {
     "name": "stdout",
     "output_type": "stream",
     "text": [
      "Modelo sin nuevas características:\n",
      "Accuracy: 0.767175572519084\n",
      "              precision    recall  f1-score   support\n",
      "\n",
      "           0       0.78      0.94      0.85       189\n",
      "           1       0.68      0.32      0.43        73\n",
      "\n",
      "    accuracy                           0.77       262\n",
      "   macro avg       0.73      0.63      0.64       262\n",
      "weighted avg       0.75      0.77      0.74       262\n",
      "\n"
     ]
    }
   ],
   "source": [
    "# Seleccionar solo las variables originales (sin FareCategory y Title)\n",
    "X_original = df[['Age', 'Fare', 'Sex', 'sibsp', 'Parch']]  # Solo las características originales\n",
    "X_train_original, X_test_original, y_train, y_test = train_test_split(X_original, y, test_size=0.2, random_state=42)\n",
    "\n",
    "# Normalizar las características (es importante para la regresión logística)\n",
    "scaler = StandardScaler()\n",
    "X_train_scaled = scaler.fit_transform(X_train_original)\n",
    "X_test_scaled = scaler.transform(X_test_original)\n",
    "\n",
    "# Entrenar el modelo de regresión logística\n",
    "model = LogisticRegression(max_iter=1000)\n",
    "model.fit(X_train_scaled, y_train)\n",
    "\n",
    "# Realizar predicciones y evaluar el rendimiento\n",
    "y_pred_original = model.predict(X_test_scaled)\n",
    "print(\"Modelo sin nuevas características:\")\n",
    "print(\"Accuracy:\", accuracy_score(y_test, y_pred_original))\n",
    "print(classification_report(y_test, y_pred_original))"
   ]
  },
  {
   "cell_type": "code",
   "execution_count": 21,
   "metadata": {},
   "outputs": [
    {
     "name": "stdout",
     "output_type": "stream",
     "text": [
      "Modelo con nuevas características:\n",
      "Accuracy: 0.7748091603053435\n",
      "              precision    recall  f1-score   support\n",
      "\n",
      "           0       0.79      0.93      0.86       189\n",
      "           1       0.68      0.37      0.48        73\n",
      "\n",
      "    accuracy                           0.77       262\n",
      "   macro avg       0.73      0.65      0.67       262\n",
      "weighted avg       0.76      0.77      0.75       262\n",
      "\n"
     ]
    }
   ],
   "source": [
    "# Entrenar el modelo con todas las características (incluyendo FareCategory y Title)\n",
    "X_train, X_test, y_train, y_test = train_test_split(X, y, test_size=0.2, random_state=42)\n",
    "\n",
    "# Normalizar las características nuevamente\n",
    "X_train_scaled = scaler.fit_transform(X_train)\n",
    "X_test_scaled = scaler.transform(X_test)\n",
    "\n",
    "# Entrenar el modelo de regresión logística\n",
    "model.fit(X_train_scaled, y_train)\n",
    "\n",
    "# Realizar predicciones y evaluar el rendimiento\n",
    "y_pred_new = model.predict(X_test_scaled)\n",
    "print(\"Modelo con nuevas características:\")\n",
    "print(\"Accuracy:\", accuracy_score(y_test, y_pred_new))\n",
    "print(classification_report(y_test, y_pred_new))"
   ]
  },
  {
   "cell_type": "code",
   "execution_count": 23,
   "metadata": {},
   "outputs": [
    {
     "name": "stdout",
     "output_type": "stream",
     "text": [
      "Modelo con nuevas características:\n",
      "Exactitud: 0.7748\n",
      "F1-Score: 0.4779\n",
      "              precision    recall  f1-score   support\n",
      "\n",
      "           0       0.79      0.93      0.86       189\n",
      "           1       0.68      0.37      0.48        73\n",
      "\n",
      "    accuracy                           0.77       262\n",
      "   macro avg       0.73      0.65      0.67       262\n",
      "weighted avg       0.76      0.77      0.75       262\n",
      "\n",
      "\n",
      "Modelo sin nuevas características:\n",
      "Exactitud: 0.7672\n",
      "F1-Score: 0.4299\n",
      "              precision    recall  f1-score   support\n",
      "\n",
      "           0       0.78      0.94      0.85       189\n",
      "           1       0.68      0.32      0.43        73\n",
      "\n",
      "    accuracy                           0.77       262\n",
      "   macro avg       0.73      0.63      0.64       262\n",
      "weighted avg       0.75      0.77      0.74       262\n",
      "\n"
     ]
    }
   ],
   "source": [
    "# Codificar las variables categóricas en variables numéricas\n",
    "df['FareCategory'] = df['FareCategory'].astype('category').cat.codes  # Codificar FareCategory\n",
    "df['Title'] = df['Title'].astype('category').cat.codes  # Codificar Title\n",
    "\n",
    "# Seleccionar las características (X) y la variable objetivo (y)\n",
    "X = df[['Age', 'Fare', 'Sex', 'sibsp', 'Parch', 'FareCategory', 'Title']]\n",
    "y = df['2urvived']\n",
    "\n",
    "# Dividir los datos en conjunto de entrenamiento y conjunto de prueba (80% / 20%)\n",
    "X_train, X_test, y_train, y_test = train_test_split(X, y, test_size=0.2, random_state=42)\n",
    "\n",
    "# Normalizar las características (es importante para la regresión logística)\n",
    "scaler = StandardScaler()\n",
    "X_train_scaled = scaler.fit_transform(X_train)\n",
    "X_test_scaled = scaler.transform(X_test)\n",
    "\n",
    "# Crear el modelo de regresión logística\n",
    "model = LogisticRegression(max_iter=1000)\n",
    "\n",
    "# --- Modelo con todas las características (con las nuevas variables) ---\n",
    "model.fit(X_train_scaled, y_train)\n",
    "y_pred_new = model.predict(X_test_scaled)\n",
    "\n",
    "# Métricas para el modelo con nuevas características\n",
    "accuracy_new = accuracy_score(y_test, y_pred_new)\n",
    "f1_new = f1_score(y_test, y_pred_new)\n",
    "\n",
    "print(\"Modelo con nuevas características:\")\n",
    "print(f\"Exactitud: {accuracy_new:.4f}\")\n",
    "print(f\"F1-Score: {f1_new:.4f}\")\n",
    "print(classification_report(y_test, y_pred_new))\n",
    "\n",
    "# --- Modelo con solo las características originales (sin las nuevas variables) ---\n",
    "X_original = df[['Age', 'Fare', 'Sex', 'sibsp', 'Parch']]  # Solo las características originales\n",
    "X_train_original, X_test_original, y_train, y_test = train_test_split(X_original, y, test_size=0.2, random_state=42)\n",
    "\n",
    "# Normalizar las características (es importante para la regresión logística)\n",
    "X_train_scaled_original = scaler.fit_transform(X_train_original)\n",
    "X_test_scaled_original = scaler.transform(X_test_original)\n",
    "\n",
    "# Entrenar el modelo con solo las características originales\n",
    "model.fit(X_train_scaled_original, y_train)\n",
    "y_pred_original = model.predict(X_test_scaled_original)\n",
    "\n",
    "# Métricas para el modelo sin nuevas características\n",
    "accuracy_original = accuracy_score(y_test, y_pred_original)\n",
    "f1_original = f1_score(y_test, y_pred_original)\n",
    "\n",
    "print(\"\\nModelo sin nuevas características:\")\n",
    "print(f\"Exactitud: {accuracy_original:.4f}\")\n",
    "print(f\"F1-Score: {f1_original:.4f}\")\n",
    "print(classification_report(y_test, y_pred_original))"
   ]
  },
  {
   "cell_type": "markdown",
   "metadata": {},
   "source": [
    "### 5. Interpretación de los resultados:\n",
    "  * Analiza cuáles de las nuevas características tuvieron el mayor impacto en el rendimiento del modelo. ¿Cómo ayudaron a mejorar la capacidad predictiva del modelo en comparación con las variables originales?\n",
    "  * Discute cómo las nuevas características creadas representan una mejor captura de la información sobre los pasajeros."
   ]
  },
  {
   "cell_type": "code",
   "execution_count": 24,
   "metadata": {},
   "outputs": [
    {
     "name": "stdout",
     "output_type": "stream",
     "text": [
      "Modelo con nuevas características:\n",
      "Exactitud: 0.7748\n",
      "F1-Score: 0.4779\n",
      "              precision    recall  f1-score   support\n",
      "\n",
      "           0       0.79      0.93      0.86       189\n",
      "           1       0.68      0.37      0.48        73\n",
      "\n",
      "    accuracy                           0.77       262\n",
      "   macro avg       0.73      0.65      0.67       262\n",
      "weighted avg       0.76      0.77      0.75       262\n",
      "\n",
      "\n",
      "Modelo sin nuevas características:\n",
      "Exactitud: 0.7672\n",
      "F1-Score: 0.4299\n",
      "              precision    recall  f1-score   support\n",
      "\n",
      "           0       0.78      0.94      0.85       189\n",
      "           1       0.68      0.32      0.43        73\n",
      "\n",
      "    accuracy                           0.77       262\n",
      "   macro avg       0.73      0.63      0.64       262\n",
      "weighted avg       0.75      0.77      0.74       262\n",
      "\n",
      "\n",
      "Comparación de Resultados:\n",
      "Mejora en Exactitud: 0.0076\n",
      "Mejora en F1-Score: 0.0480\n"
     ]
    }
   ],
   "source": [
    "# Codificar las variables categóricas en variables numéricas\n",
    "df['FareCategory'] = df['FareCategory'].astype('category').cat.codes  # Codificar FareCategory\n",
    "df['Title'] = df['Title'].astype('category').cat.codes  # Codificar Title\n",
    "\n",
    "# Seleccionar las características (X) y la variable objetivo (y)\n",
    "X = df[['Age', 'Fare', 'Sex', 'sibsp', 'Parch', 'FareCategory', 'Title']]\n",
    "y = df['2urvived']\n",
    "\n",
    "# Dividir los datos en conjunto de entrenamiento y conjunto de prueba (80% / 20%)\n",
    "X_train, X_test, y_train, y_test = train_test_split(X, y, test_size=0.2, random_state=42)\n",
    "\n",
    "# Normalizar las características (es importante para la regresión logística)\n",
    "scaler = StandardScaler()\n",
    "X_train_scaled = scaler.fit_transform(X_train)\n",
    "X_test_scaled = scaler.transform(X_test)\n",
    "\n",
    "# Crear el modelo de regresión logística\n",
    "model = LogisticRegression(max_iter=1000)\n",
    "\n",
    "# --- Modelo con todas las características (con las nuevas variables) ---\n",
    "model.fit(X_train_scaled, y_train)\n",
    "y_pred_new = model.predict(X_test_scaled)\n",
    "\n",
    "# Métricas para el modelo con nuevas características\n",
    "accuracy_new = accuracy_score(y_test, y_pred_new)\n",
    "f1_new = f1_score(y_test, y_pred_new)\n",
    "\n",
    "print(\"Modelo con nuevas características:\")\n",
    "print(f\"Exactitud: {accuracy_new:.4f}\")\n",
    "print(f\"F1-Score: {f1_new:.4f}\")\n",
    "print(classification_report(y_test, y_pred_new))\n",
    "\n",
    "# --- Modelo con solo las características originales (sin las nuevas variables) ---\n",
    "X_original = df[['Age', 'Fare', 'Sex', 'sibsp', 'Parch']]  # Solo las características originales\n",
    "X_train_original, X_test_original, y_train, y_test = train_test_split(X_original, y, test_size=0.2, random_state=42)\n",
    "\n",
    "# Normalizar las características (es importante para la regresión logística)\n",
    "X_train_scaled_original = scaler.fit_transform(X_train_original)\n",
    "X_test_scaled_original = scaler.transform(X_test_original)\n",
    "\n",
    "# Entrenar el modelo con solo las características originales\n",
    "model.fit(X_train_scaled_original, y_train)\n",
    "y_pred_original = model.predict(X_test_scaled_original)\n",
    "\n",
    "# Métricas para el modelo sin nuevas características\n",
    "accuracy_original = accuracy_score(y_test, y_pred_original)\n",
    "f1_original = f1_score(y_test, y_pred_original)\n",
    "\n",
    "print(\"\\nModelo sin nuevas características:\")\n",
    "print(f\"Exactitud: {accuracy_original:.4f}\")\n",
    "print(f\"F1-Score: {f1_original:.4f}\")\n",
    "print(classification_report(y_test, y_pred_original))\n",
    "\n",
    "# Comparar los resultados\n",
    "print(\"\\nComparación de Resultados:\")\n",
    "print(f\"Mejora en Exactitud: {accuracy_new - accuracy_original:.4f}\")\n",
    "print(f\"Mejora en F1-Score: {f1_new - f1_original:.4f}\")"
   ]
  },
  {
   "cell_type": "markdown",
   "metadata": {},
   "source": [
    "* Las nuevas características (FareCategory y Title) han tenido un impacto positivo en el rendimiento del modelo de regresión logística, especialmente en el F1-Score, que es crucial cuando se trata de balancear precisión y recall.\n",
    "* Las nuevas características, FareCategory y Title, aportaron información adicional valiosa sobre el estatus social, género y edad de los pasajeros, lo cual contribuyó a un mejor rendimiento del modelo en términos de F1-Score. Aunque la mejora en la exactitud fue pequeña, el F1-Score más alto indica que el modelo ahora tiene un mejor equilibrio entre la precisión (es decir, la probabilidad de que un pasajero sobreviviente predicho realmente haya sobrevivido) y el recall (la capacidad del modelo para identificar correctamente a los sobrevivientes)."
   ]
  }
 ],
 "metadata": {
  "kernelspec": {
   "display_name": "ds_mitic",
   "language": "python",
   "name": "python3"
  },
  "language_info": {
   "codemirror_mode": {
    "name": "ipython",
    "version": 3
   },
   "file_extension": ".py",
   "mimetype": "text/x-python",
   "name": "python",
   "nbconvert_exporter": "python",
   "pygments_lexer": "ipython3",
   "version": "3.10.15"
  }
 },
 "nbformat": 4,
 "nbformat_minor": 2
}
